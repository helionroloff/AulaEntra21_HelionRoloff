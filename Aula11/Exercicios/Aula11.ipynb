{
  "nbformat": 4,
  "nbformat_minor": 0,
  "metadata": {
    "colab": {
      "name": "Untitled10.ipynb",
      "provenance": []
    },
    "kernelspec": {
      "name": "python3",
      "display_name": "Python 3"
    }
  },
  "cells": [
    {
      "cell_type": "markdown",
      "metadata": {
        "id": "Bzg1VUjVL-wN",
        "colab_type": "text"
      },
      "source": [
        "----\n",
        "\n",
        "<h1><b>Laço de Repetição WHILE</b></h1>\n",
        "\n",
        "----\n",
        "\n",
        "O While é um laço de repetição que possui um operação condicional como controlador.\n",
        "\n",
        "Se a operação condicional resultar em True (Verdadeiro) o while irá fazer o loop. \n",
        "\n",
        "Caso a operação condicional resultar em False ele não executará o código indentado.\n",
        "\n",
        "\n",
        "Ele é muito útil para quando se quer repetir um código infinitamente ou não se sabe quantas vezes ele deve repetir.\n",
        "\n",
        "\n"
      ]
    },
    {
      "cell_type": "code",
      "metadata": {
        "id": "ud6uvD_3PEDe",
        "colab_type": "code",
        "colab": {}
      },
      "source": [
        "# Exemplo:\n",
        "\n",
        "# Crie um programa que peça 2 números inteiros.\n",
        "# Mostre um menu para o usuário e peça para ele escolher se quer soma ou subtração ou sair\n",
        "\n",
        "# Se ele escolher soma, some os números e mostre o resultado.\n",
        "# Se ele escolher subtração, subtraia os números e mostre o resultado.\n",
        "# Se ele escolher sair, mostre uma mensagem de despidida e termine o programa.\n",
        "# Para qualquer outra opção apareça a mensagem \"Opção Invalida\"\n",
        "\n",
        "# Criando a variável opcao e atribuindo um valor\n",
        "opcao = '' # Como vamos usar esta variável no while é importante cria-la\n",
        "           # antecipadamente e colocar um valor que não interfira no nosso\n",
        "           # while\n",
        "\n",
        "while opcao != '3': #  opcao != '3' tem que ser True para funcionar!  \n",
        "\n",
        "    # Pedindo 2 números:\n",
        "    numero1 = int(input(\"Digite o primeiro número: \"))\n",
        "    numero2 = int(input(\"Digite o segundo número: \"))\n",
        "\n",
        "    # Criando o menu de escolha:\n",
        "    opcao = input('''\n",
        "    Programa Soma/Subtração\n",
        "\n",
        "    1) Soma:\n",
        "    2) Subtração:\n",
        "    3) Sair:\n",
        "\n",
        "    Digite a opção desejada: ''')\n",
        "\n",
        "    # Criando o filtro\n",
        "    print('\\n')\n",
        "    if opcao == '1':\n",
        "        soma = numero1 + numero2\n",
        "        print(f\"O resultado da soma é {soma}\\n\")\n",
        "    elif opcao == '2':\n",
        "        sub = numero1 - numero2\n",
        "        print(f\"O resultado da subtração é {sub}\\n\")\n",
        "    elif opcao == '3':\n",
        "        print(f\"Obrigado pela escolha!\\nBye!\\n\")\n",
        "    else:\n",
        "        print('Opção inválida\\n')\n",
        "\n",
        "# Note que o nosso código ficou mais dinâmico e o loop ajuda muito"
      ],
      "execution_count": null,
      "outputs": []
    },
    {
      "cell_type": "code",
      "metadata": {
        "id": "qDgNP8qxTgrn",
        "colab_type": "code",
        "colab": {}
      },
      "source": [
        "# Exemplo2:\n",
        "\n",
        "# Crie um programa que peça 2 números e divida um pelo outro.\n",
        "# Crie um filtro que verifique se o segundo número é igual a zero. \n",
        "# se for igual a zero deve mostrar a mensagem \n",
        "# \"Número inválido! Digite novamente\" e peça que o usuário digite o segundo \n",
        "# valor novamente. repita isso até que o usuário digite um valor diferente de zero.\n",
        "# Depois mostre o resultado.\n",
        "\n",
        "numero1 = int(input(\"Digite o primeiro número: \"))\n",
        "numero2 = int(input(\"Digite o segundo número: \"))\n",
        "\n",
        "not_div_zero = \"True\" #Criando uma variável booleana para fazermos o loop\n",
        "\n",
        "while not_div_zero:\n",
        "    if numero2 == 0:\n",
        "        print(\"Número inválido! Digite novamente\")\n",
        "        numero2 = int(input(\"Digite o segundo número: \"))\n",
        "    else:\n",
        "        not_div_zero = False # Mudando o valor para False garantimos o fim do loop\n",
        "        div = numero1 / numero2\n",
        "        print(f'O resultado da divisão é {div}')\n",
        "\n",
        "# Note que aqui nós forçamos o usuário a digitar o valor corretamente! \n",
        "# O programa só seguiu em frente quando o segundo número estava correto!"
      ],
      "execution_count": null,
      "outputs": []
    },
    {
      "cell_type": "markdown",
      "metadata": {
        "id": "HmBo8XXnVtai",
        "colab_type": "text"
      },
      "source": [
        "<b>Exercício 1</b>\n",
        "\n",
        "(não usar o continue ou o break)\n",
        "\n",
        "Crie um programa que mostre um memu com as seguites opções:\n",
        "\n",
        "1) Soma\n",
        "2) Subtração\n",
        "3) Multiplicação\n",
        "S) Para sair!\n",
        "\n",
        "Para número 1: Peça 2 números e mostre a soma deles<br>\n",
        "Para número 2: Peça 2 númeors e mostre a subtração deles<br>\n",
        "Para númeor 3: Peça 2 números e mostre a multiplicação deles<br>\n",
        "Para S: Mostre uma mensagem de despedida e termine o programa.<br><br>\n",
        "\n",
        "Para qualquer outra opção deve aparecer a mensagem \"Opção Inválida\""
      ]
    },
    {
      "cell_type": "code",
      "metadata": {
        "id": "lUtXbu0dXKkI",
        "colab_type": "code",
        "colab": {}
      },
      "source": [
        ""
      ],
      "execution_count": null,
      "outputs": []
    },
    {
      "cell_type": "markdown",
      "metadata": {
        "id": "8mrtudCFXKub",
        "colab_type": "text"
      },
      "source": [
        "<b>Exercício 2</b>\n",
        "\n",
        "(não usar o continue ou o break)<br>\n",
        "\n",
        "Crie um menu interativo com as seguintes opções:<br>\n",
        "\n",
        "A) soma<br>\n",
        "B) Média<br>\n",
        "C) Taboada<br>\n",
        "S) Sair<br>\n",
        "\n",
        "\n",
        "Para A: Peça 2 números, some e mostr o resultado\n",
        "Para B: Peça 4 números, faça a média e mostre o resultado<br>\n",
        "Para C: Peça um número e mostre a taboada dele<br>\n",
        "Para S: Mostre uma mensagem de despidida e encerre o programa.<br>\n",
        "Para qualquer outro valor: Mostre a mensagem \"opção inválida\"<br><br>\n"
      ]
    },
    {
      "cell_type": "markdown",
      "metadata": {
        "id": "j-qgIOYBO1FO",
        "colab_type": "text"
      },
      "source": [
        "----\n",
        "\n",
        "<h1><b>Comandos Break e Continue</b></h1>\n",
        "\n",
        "----\n",
        "\n",
        "Este comandos servem para controlar o fluxo do loop.\n",
        "<br>\n",
        "continue: Para o fluxo atual e volta para o inicio do loop\n",
        "<br>\n",
        "break: Termina o loop e finaliza o laço de repetição.\n",
        "<br><br><br>\n",
        "Estes comando funcionam tanto no while quanto no for"
      ]
    },
    {
      "cell_type": "code",
      "metadata": {
        "id": "klrjPaBYL9yx",
        "colab_type": "code",
        "colab": {}
      },
      "source": [
        "# Exemplo Continue:\n",
        "\n",
        "# Faça um programa que mostre todos os números de 1 a 40. \n",
        "# Some os todos os números menos os números de 20 a 30.\n",
        "# Mostre o resultado.\n",
        "\n",
        "lista = [ ]\n",
        "cont = 0\n",
        "while cont < 40:\n",
        "    cont = cont + 1\n",
        "    if cont >= 20 and cont <= 30:\n",
        "        continue # Se o continue for executado o código volta para o inicio\n",
        "    \n",
        "    print(cont)\n",
        "    lista.append(cont)\n",
        "\n",
        "print(sum(lista))\n",
        "print(lista)\n",
        "\n"
      ],
      "execution_count": null,
      "outputs": []
    },
    {
      "cell_type": "code",
      "metadata": {
        "id": "H-dpc5e9dJPO",
        "colab_type": "code",
        "colab": {}
      },
      "source": [
        "# Exemplo Break:\n",
        "\n",
        "# Crie um programa que mostre \"Bom dia\" e pergunte se deseja continuar. \n",
        "\n",
        "while True: # Este é o nosso carro descendo um morro a toda velocidade\n",
        "    print('Bom dia')\n",
        "    continuar = input(\"Deseja continuar? (S para sim ou N para não): \")\n",
        "    if continuar == 'N' or continuar == 'n':\n",
        "        break # Este é o nosso freio!"
      ],
      "execution_count": null,
      "outputs": []
    },
    {
      "cell_type": "markdown",
      "metadata": {
        "id": "ItZDXT-6fhvL",
        "colab_type": "text"
      },
      "source": [
        "<b>Exercício 3</b>\n",
        "\n",
        "(use somente o while)\n",
        "\n",
        "Faça um programa que peça o nome e a idade do cliente e mostre a seguinte mensagem:\n",
        "\n",
        "Para mairores de 18 anos: Entrada Permitida<br>\n",
        "Para menores de 18 anos: Entrada proibida.<br>\n",
        "\n",
        "Depois mostre a lista dos nomes (somente os nomes) das pessoas com entrada permitida.\n",
        "\n",
        "<b>Regras:</b><br>\n",
        "- O programa não pode aceitar nomes em branco. Caso não se digite um nome o programa deve mostrar a mensagem \"Nome em branco\" e repetir o código.<br>\n",
        "- Caso o usuário deixe em branco a idade, o progama deve mostrar uma mensagem: \"Obrigado pela preferência\" e terminar logo em seguida."
      ]
    },
    {
      "cell_type": "code",
      "metadata": {
        "id": "5pDnQ3z_h4pf",
        "colab_type": "code",
        "colab": {}
      },
      "source": [
        ""
      ],
      "execution_count": null,
      "outputs": []
    },
    {
      "cell_type": "markdown",
      "metadata": {
        "id": "w4PM-sebh5E-",
        "colab_type": "text"
      },
      "source": [
        "<b>Exercício 4</b>\n",
        "\n",
        "(use o conhecimento que foi passado no curso)\n",
        "\n",
        "Crie um programa com um menu interativo:\n",
        "\n",
        "-----\n",
        "Cadastro de pessoas v1.0\n",
        "\n",
        "A) Cadastrar Pessoa<br>\n",
        "B) Ver todos os nomes cadastrados:<br>\n",
        "C) Ver cadastro pelo nome:<br>\n",
        "D) Apagar um cadastro pelo nome:<br>\n",
        "S) Sair\n",
        "\n",
        "-----\n",
        "<br>\n",
        "<br>\n",
        "\n",
        "Para A: Cadastre os dados do cliente (Nome, idade, sexo, telefone<br>\n",
        "Para B: Mostre todos os nomes dos clientes (só os nomes)<br>\n",
        "Para C: Digite o nome do cliente e mostre todos os dados dele.<br>\n",
        "Para D: Digite o nome do cliente e o apague do cadastro<br>\n",
        "Para S: Mostre uma mensagem de despedida e termine o programa<br>\n",
        "Para qualquer outro valor: Mostre \"Opção invalida\"<br>\n"
      ]
    },
    {
      "cell_type": "code",
      "metadata": {
        "id": "ukET4b42kjZ1",
        "colab_type": "code",
        "colab": {}
      },
      "source": [
        ""
      ],
      "execution_count": null,
      "outputs": []
    }
  ]
}