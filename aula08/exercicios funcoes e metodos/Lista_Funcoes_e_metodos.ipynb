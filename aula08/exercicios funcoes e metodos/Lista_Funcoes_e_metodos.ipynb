{
 "cells": [
  {
   "cell_type": "markdown",
   "metadata": {
    "colab_type": "text",
    "id": "URMHdoK7eyAQ"
   },
   "source": [
    "<h1>FUNÇÕES E METODOS DE LISTAS</h1>\n",
    "\n"
   ]
  },
  {
   "cell_type": "markdown",
   "metadata": {
    "colab_type": "text",
    "id": "6xcKSeMdp5Dw"
   },
   "source": [
    "**Funções para lista**<br>\n",
    "\n",
    "Estas funções ajudam no trabalho com as listas:<br>\n",
    "\n",
    "min(), max(), sum(), len()<br><br>\n",
    "\n",
    "min() ele retorna o menor valor de uma lista.<br>\n",
    "Esta função funciona para números quanto para alfabeto.\n",
    "\n",
    "\n"
   ]
  },
  {
   "cell_type": "code",
   "execution_count": 1,
   "metadata": {
    "colab": {
     "base_uri": "https://localhost:8080/",
     "height": 51
    },
    "colab_type": "code",
    "id": "88z6H8ZXUoGT",
    "outputId": "69b5ee9f-88a1-409f-e500-a0705931ed9d"
   },
   "outputs": [
    {
     "name": "stdout",
     "output_type": "stream",
     "text": [
      "1\n",
      "a\n"
     ]
    }
   ],
   "source": [
    "lista_numerica = [2,4,1,5,6,7,3]\n",
    "lista_alfabetica = ['a','b','d','g']\n",
    "\n",
    "print( min(lista_numerica) ) #o numero 1\n",
    "print( min(lista_alfabetica) )#o caracter 'a'"
   ]
  },
  {
   "cell_type": "markdown",
   "metadata": {
    "colab_type": "text",
    "id": "kWX75nJrqKBG"
   },
   "source": [
    "\n",
    "\n",
    "max() ele retorna o maior valor dentro de uma lisa.<br>\n",
    "Esta função funciona para números quanto para alfabeto.<br>\n",
    "\n"
   ]
  },
  {
   "cell_type": "code",
   "execution_count": null,
   "metadata": {
    "colab": {},
    "colab_type": "code",
    "id": "Uc-EoTLOq8g5"
   },
   "outputs": [],
   "source": [
    "lista_numerica = [2,4,1,5,6,7,3]\n",
    "lista_alfabetica = ['a','b','d','g']\n",
    "\n",
    "print( max(lista_numerica) ) #o numero 7\n",
    "print( max(lista_alfabetica) )#o caracter 'g'"
   ]
  },
  {
   "cell_type": "markdown",
   "metadata": {
    "colab_type": "text",
    "id": "qP6vJr5ArEYK"
   },
   "source": [
    "sum() faz a soma de todos os valores dentro da lista. Estes valore devem ser númericos para que esta função funcione.<br>"
   ]
  },
  {
   "cell_type": "code",
   "execution_count": null,
   "metadata": {
    "colab": {},
    "colab_type": "code",
    "id": "njbBUYTgrE4l"
   },
   "outputs": [],
   "source": [
    "lista_numerica = [2,4,1,5,6,7,3]\n",
    "\n",
    "print( sum(lista_numerica) ) #o numero 28"
   ]
  },
  {
   "cell_type": "markdown",
   "metadata": {
    "colab_type": "text",
    "id": "SuwOu2SwrMgD"
   },
   "source": [
    "len() ele conta quantos itens tem um objeto como caracteres de uma string, bytes, tupla, lista, dicionário. <br>"
   ]
  },
  {
   "cell_type": "code",
   "execution_count": null,
   "metadata": {
    "colab": {},
    "colab_type": "code",
    "id": "WJRthL_frMk_"
   },
   "outputs": [],
   "source": [
    "lista_numerica = [2,4,1,5,6,7,3]\n",
    "lista_alfabetica = ['a','b','d','g']\n",
    "\n",
    "print( len(lista_alfabetica) ) #o resultado é 4 item\n",
    "print( len(lista_numerica) ) #o resultado é 7 itens"
   ]
  },
  {
   "cell_type": "markdown",
   "metadata": {
    "colab_type": "text",
    "id": "0Sy_SDgD3IIh"
   },
   "source": [
    "\n",
    "\n",
    "---\n",
    "\n"
   ]
  },
  {
   "cell_type": "markdown",
   "metadata": {
    "colab_type": "text",
    "id": "1_12afsEwHCH"
   },
   "source": [
    "\n",
    "**Metodos para Lista:**\n",
    "\n",
    "Aqui vamos ver 90% dos metodos que podem ser usados em listas. Estes metodos ajudam a trabalhar, alterar, filtrar qualquer elemento de uma lista.\n",
    "\n",
    "\n"
   ]
  },
  {
   "cell_type": "markdown",
   "metadata": {
    "colab_type": "text",
    "id": "o3tKaHyn4IFN"
   },
   "source": [
    "**.append()**<br><br>\n",
    "\n",
    "\n",
    "Para adicionar itens em uma lista, usamos o metodo .append()<br>\n",
    ".append(objeto)\n",
    "\n",
    "Adiciona objeto no final da lista"
   ]
  },
  {
   "cell_type": "code",
   "execution_count": null,
   "metadata": {
    "colab": {},
    "colab_type": "code",
    "id": "gifs0Z674lKr"
   },
   "outputs": [],
   "source": [
    "lista = ['codigo', 'nome', 'idade', 'sexo']\n",
    "lista.append('elemento')\n",
    "print(lista)\n"
   ]
  },
  {
   "cell_type": "markdown",
   "metadata": {
    "colab_type": "text",
    "id": "e8wllf6L5IjV"
   },
   "source": [
    "**.insert()**\n",
    "\n",
    "insert(índice,objeto)\n",
    "\n",
    "Insire o objeto na posição indicada (índice).\n",
    "\n"
   ]
  },
  {
   "cell_type": "code",
   "execution_count": null,
   "metadata": {
    "colab": {},
    "colab_type": "code",
    "id": "VyljaPgXCSGs"
   },
   "outputs": [],
   "source": [
    "lista = [1,2,3,'a','b','c',3,'a',3]\n",
    "lista.insert(4,'inserção na posição 4')\n",
    "print(f'lista: {lista}')\n"
   ]
  },
  {
   "cell_type": "markdown",
   "metadata": {
    "colab_type": "text",
    "id": "7ptMFqVs5O4N"
   },
   "source": [
    "**.sort()**\n",
    "\n",
    "sort(reverse=True/False)\n",
    "Ele ordena os valores de menor para maior. \n",
    "\n",
    "Caso o reverse estiver como True ele irá inverter do maior para menor. \n",
    "\n",
    "**Atenção**!\n",
    "\n",
    "Os dados devem ser todos string ou numérico. Não pode haver mistura dos dois tipos na lista a ser ordenada.\n",
    "\n",
    "```\n",
    ">>> lista\n",
    "[1, 2, 3, 'a', 'inserção na posição 4', 'b', 'c', 3, 'a', 3]\n",
    ">>> lista.sort()\n",
    "Traceback (most recent call last):\n",
    "  File \"<pyshell#178>\", line 1, in <module>\n",
    "    lista.sort()\n",
    "TypeError: '<' not supported between instances of 'str' and 'int'\n",
    "\n",
    "\n",
    "```\n",
    "\n"
   ]
  },
  {
   "cell_type": "code",
   "execution_count": null,
   "metadata": {
    "colab": {},
    "colab_type": "code",
    "id": "5NRTy13CAeS2"
   },
   "outputs": [],
   "source": [
    "lista = [8,3,4,9,4,5,3,1,8,2,4,10,564,45,450]\n",
    "\n",
    "# Ordenando a lista!\n",
    "\n",
    "lista.sort()\n",
    "print(f'lista ordenada: {lista}')\n",
    "print()\n",
    "\n",
    "# Ordenando a lista reversamente!\n",
    "\n",
    "lista = [8,3,4,9,4,5,3,1,8,2,4,10,564,45,450]\n",
    "lista.sort(reverse=True)\n",
    "print(f'lista ordenada inversamente: {lista}')\n"
   ]
  },
  {
   "cell_type": "markdown",
   "metadata": {
    "colab_type": "text",
    "id": "VLpqkmg55Swk"
   },
   "source": [
    "**.reverse()**\n",
    "\n",
    "reverse()\n",
    "\n",
    "Ele reverte a ordem da lista. Ele não ordena, só altera a posição para a \n",
    "posição inversa.\n",
    "\n"
   ]
  },
  {
   "cell_type": "code",
   "execution_count": null,
   "metadata": {
    "colab": {},
    "colab_type": "code",
    "id": "u_UmMEMx_8r5"
   },
   "outputs": [],
   "source": [
    "lista = [8,3,4,9,4,5,3,1,8,2,4,10,564,45,450]\n",
    "print(f'lista: {lista}')\n",
    "lista.reverse()\n",
    "print(f'lista revertida: {lista}')\n",
    "\n",
    "lista.reverse()\n",
    "print(f'lista re-revertida: {lista}')\n"
   ]
  },
  {
   "cell_type": "markdown",
   "metadata": {
    "colab_type": "text",
    "id": "fvxBBT6t5Wbs"
   },
   "source": [
    "**.pop()**\n",
    "\n",
    "pop(indice)\n",
    "\n",
    "Remove o objeto na posição indicada e retorna o valor removido.\n",
    "\n",
    "Caso não indique o indice do arquivo o .pop() irá remover o ultimo item \n",
    "da lista. \n",
    "\n",
    "Note que o .pop() retorna o valor removido. O mesmo pode ser salvo em uma variável.\n",
    "\n",
    "\n",
    "\n"
   ]
  },
  {
   "cell_type": "code",
   "execution_count": null,
   "metadata": {
    "colab": {},
    "colab_type": "code",
    "id": "ZoTuuPCL-61g"
   },
   "outputs": [],
   "source": [
    "\n",
    "lista = [8,3,4,9,4,5,3,1,8,2,4,10,564,45,450]\n",
    "print(f'lista: {lista}')\n",
    "print(f'lista.pop(): {lista.pop()}')\n",
    "print(f'lista: {lista}')\n",
    "\n",
    "variavel = lista.pop()\n",
    "print(f'variavel: {variavel}')\n",
    "print()\n",
    "\n",
    "\n",
    ">>> lista = [8, 3, 4, 9, 4, 5, 3, 1, 8, 2, 4, 10, 564]\n",
    "\n",
    "# Agora vamos remover o item na terceira posição:\n",
    "\n",
    "print(f'lista.pop(): {lista.pop(3)}')\n",
    "print(f'lista: {lista}')"
   ]
  },
  {
   "cell_type": "markdown",
   "metadata": {
    "colab_type": "text",
    "id": "RWc8cQgG5a2j"
   },
   "source": [
    "**.remove()**\n",
    "\n",
    "remove(valor)\n",
    "\n",
    "remove a primeira ocorrência do valor digitado.\n",
    "\n",
    "Neste caso o item removido não é retornado para o programa."
   ]
  },
  {
   "cell_type": "code",
   "execution_count": null,
   "metadata": {
    "colab": {},
    "colab_type": "code",
    "id": "9AxJ96qx-nin"
   },
   "outputs": [],
   "source": [
    "lista = [8, 3, 4, 4, 5, 3, 1, 8, 2, 4, 10, 564]\n",
    "print(f'lista: {lista}')\n",
    "print()\n",
    "lista.remove(3)\n",
    "print(f'lista: {lista}')\n"
   ]
  },
  {
   "cell_type": "markdown",
   "metadata": {},
   "source": [
    "---------------------\n",
    "\n",
    "<h1><b><center>Exercícios</center></b></h1>\n",
    "\n",
    "---------------------"
   ]
  },
  {
   "cell_type": "markdown",
   "metadata": {},
   "source": [
    "1) Crie uma lista vazia.\n",
    "\n",
    "Adicione as 3 palavras \"Abacate\" , \"Dia bonito\",  \"Maria Tereza\" , usando o .append() em cada uma destas palavras separadamente."
   ]
  },
  {
   "cell_type": "code",
   "execution_count": null,
   "metadata": {},
   "outputs": [],
   "source": []
  },
  {
   "cell_type": "markdown",
   "metadata": {},
   "source": [
    "2) Crie uma lista com 10 números qualquer.\n",
    "\n",
    "Usando as funções da lista responda:\n",
    "\n",
    "Quantos itens tem a lista?<br>\n",
    "Qual é o número maior?<br>\n",
    "Qual é o número menor?<br>\n",
    "Qual é o resultado da soma da lista?<br>\n",
    "\n",
    "\n"
   ]
  },
  {
   "cell_type": "code",
   "execution_count": null,
   "metadata": {},
   "outputs": [],
   "source": []
  },
  {
   "cell_type": "markdown",
   "metadata": {},
   "source": [
    "3) Estas 3 listas:\n",
    "\n",
    "vendas_armando = [100.00, 500.00, 258.50, 710.00, 50.50,750.00 ]<br>\n",
    "vendas_eduardo = [10.00, 1050.00, 859.75, 199.05, 500.50,750.00, 568.60, 950.00 ]<br>\n",
    "vendas_paulo = [950.00, 89.90, 2500.00, 1750.00,500.00]\n",
    "\n",
    "Estas listas são referente as vendas dos vendedores Armando, Paulo e Eduardo.\n",
    "\n",
    "3.1) Com base nelas e usando funções da lista mostradas em aula, mostre:<br>\n",
    "A média de vendas de cada um;<br>\n",
    "A venda total de cada vendedor;<br>\n",
    "A quantidade de vendas de cada vendedor.\n",
    "\n",
    "3.2) Calcule o valor de comissão que o dono da loja deve pagar para seus funcionários seguindo a regra:\n",
    "\n",
    "Para total de vendas de 0.00 a 1000.00 Reais - 1%<br>\n",
    "Para total de vendas de 1000.01 a 2500.00 Reais - 1.5%<br>\n",
    "Para total de vendas de 2500.01 a 5000.00 Reais - 2%<br>\n",
    "Para total de vendas a cima de 5000.01 Reais - 3%<br>\n"
   ]
  },
  {
   "cell_type": "code",
   "execution_count": null,
   "metadata": {},
   "outputs": [],
   "source": []
  }
 ],
 "metadata": {
  "colab": {
   "collapsed_sections": [],
   "name": "Lista 03 Funcoes e metodos.ipynb",
   "provenance": []
  },
  "kernelspec": {
   "display_name": "Python 3",
   "language": "python",
   "name": "python3"
  },
  "language_info": {
   "codemirror_mode": {
    "name": "ipython",
    "version": 3
   },
   "file_extension": ".py",
   "mimetype": "text/x-python",
   "name": "python",
   "nbconvert_exporter": "python",
   "pygments_lexer": "ipython3",
   "version": "3.7.3"
  }
 },
 "nbformat": 4,
 "nbformat_minor": 1
}
